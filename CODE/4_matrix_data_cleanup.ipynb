{
 "cells": [
  {
   "cell_type": "markdown",
   "metadata": {},
   "source": [
    "# Toad matrix"
   ]
  },
  {
   "cell_type": "markdown",
   "metadata": {},
   "source": [
    "## Read in data and look at some features"
   ]
  },
  {
   "cell_type": "code",
   "execution_count": 107,
   "metadata": {},
   "outputs": [],
   "source": [
    "import pandas as pd\n",
    "import numpy as np"
   ]
  },
  {
   "cell_type": "code",
   "execution_count": 108,
   "metadata": {},
   "outputs": [],
   "source": [
    "df = pd.read_csv('../DATA/2017_data_cleaned.csv')"
   ]
  },
  {
   "cell_type": "code",
   "execution_count": 109,
   "metadata": {
    "tags": []
   },
   "outputs": [
    {
     "data": {
      "text/plain": [
       "Index(['MUSYM', 'Index', 'Year', 'Sheet_ID', 'Date', 'Date_survey_started',\n",
       "       'Survey', 'No', 'Time', 'Y', 'X', 'SVL_mm', 'Color', 'Nuptial_Pads',\n",
       "       'gravid', 'Sex', 'Adjusted_sex', 'Mass', 'COMMENTS', 'LOCAL_NAME',\n",
       "       'FORM_NAME', 'ALLIAN_SCI', 'ALLIAN_ENG', 'ASSOC_SCI', 'AREASYMBOL',\n",
       "       'MUKEY', 'Soil_description', 'Top_layer', 'Middle_layer',\n",
       "       'Parent_material', 'Drainage', 'Hydric_soil_group', 'Hydric_soil',\n",
       "       'lineOrig'],\n",
       "      dtype='object')"
      ]
     },
     "execution_count": 109,
     "metadata": {},
     "output_type": "execute_result"
    }
   ],
   "source": [
    "df.columns"
   ]
  },
  {
   "cell_type": "code",
   "execution_count": 110,
   "metadata": {},
   "outputs": [
    {
     "data": {
      "text/html": [
       "<div>\n",
       "<style scoped>\n",
       "    .dataframe tbody tr th:only-of-type {\n",
       "        vertical-align: middle;\n",
       "    }\n",
       "\n",
       "    .dataframe tbody tr th {\n",
       "        vertical-align: top;\n",
       "    }\n",
       "\n",
       "    .dataframe thead th {\n",
       "        text-align: right;\n",
       "    }\n",
       "</style>\n",
       "<table border=\"1\" class=\"dataframe\">\n",
       "  <thead>\n",
       "    <tr style=\"text-align: right;\">\n",
       "      <th></th>\n",
       "      <th>MUSYM</th>\n",
       "      <th>Index</th>\n",
       "      <th>Year</th>\n",
       "      <th>Sheet_ID</th>\n",
       "      <th>Date</th>\n",
       "      <th>Date_survey_started</th>\n",
       "      <th>Survey</th>\n",
       "      <th>No</th>\n",
       "      <th>Time</th>\n",
       "      <th>Y</th>\n",
       "      <th>...</th>\n",
       "      <th>AREASYMBOL</th>\n",
       "      <th>MUKEY</th>\n",
       "      <th>Soil_description</th>\n",
       "      <th>Top_layer</th>\n",
       "      <th>Middle_layer</th>\n",
       "      <th>Parent_material</th>\n",
       "      <th>Drainage</th>\n",
       "      <th>Hydric_soil_group</th>\n",
       "      <th>Hydric_soil</th>\n",
       "      <th>lineOrig</th>\n",
       "    </tr>\n",
       "  </thead>\n",
       "  <tbody>\n",
       "    <tr>\n",
       "      <th>0</th>\n",
       "      <td>29B</td>\n",
       "      <td>1024</td>\n",
       "      <td>2017</td>\n",
       "      <td>SCTR-11-MAY-2017-01</td>\n",
       "      <td>11-May-17</td>\n",
       "      <td>11-May-17</td>\n",
       "      <td>1</td>\n",
       "      <td>1</td>\n",
       "      <td>2109</td>\n",
       "      <td>4118573</td>\n",
       "      <td>...</td>\n",
       "      <td>VA695</td>\n",
       "      <td>120821</td>\n",
       "      <td>Slagle fine sandy loam, 2 to 6 percent slopes</td>\n",
       "      <td>fine sandy loam</td>\n",
       "      <td>sandy clay loam</td>\n",
       "      <td>marine deposits</td>\n",
       "      <td>moderately well drained</td>\n",
       "      <td>C</td>\n",
       "      <td>No</td>\n",
       "      <td>0</td>\n",
       "    </tr>\n",
       "    <tr>\n",
       "      <th>1</th>\n",
       "      <td>29B</td>\n",
       "      <td>1025</td>\n",
       "      <td>2017</td>\n",
       "      <td>SCTR-11-MAY-2017-01</td>\n",
       "      <td>11-May-17</td>\n",
       "      <td>11-May-17</td>\n",
       "      <td>1</td>\n",
       "      <td>2</td>\n",
       "      <td>2109</td>\n",
       "      <td>4118577</td>\n",
       "      <td>...</td>\n",
       "      <td>VA695</td>\n",
       "      <td>120821</td>\n",
       "      <td>Slagle fine sandy loam, 2 to 6 percent slopes</td>\n",
       "      <td>fine sandy loam</td>\n",
       "      <td>sandy clay loam</td>\n",
       "      <td>marine deposits</td>\n",
       "      <td>moderately well drained</td>\n",
       "      <td>C</td>\n",
       "      <td>No</td>\n",
       "      <td>1</td>\n",
       "    </tr>\n",
       "    <tr>\n",
       "      <th>2</th>\n",
       "      <td>29B</td>\n",
       "      <td>1026</td>\n",
       "      <td>2017</td>\n",
       "      <td>SCTR-11-MAY-2017-01</td>\n",
       "      <td>11-May-17</td>\n",
       "      <td>11-May-17</td>\n",
       "      <td>1</td>\n",
       "      <td>3</td>\n",
       "      <td>2109</td>\n",
       "      <td>4118569</td>\n",
       "      <td>...</td>\n",
       "      <td>VA695</td>\n",
       "      <td>120821</td>\n",
       "      <td>Slagle fine sandy loam, 2 to 6 percent slopes</td>\n",
       "      <td>fine sandy loam</td>\n",
       "      <td>sandy clay loam</td>\n",
       "      <td>marine deposits</td>\n",
       "      <td>moderately well drained</td>\n",
       "      <td>C</td>\n",
       "      <td>No</td>\n",
       "      <td>2</td>\n",
       "    </tr>\n",
       "    <tr>\n",
       "      <th>3</th>\n",
       "      <td>29B</td>\n",
       "      <td>1028</td>\n",
       "      <td>2017</td>\n",
       "      <td>SCTR-11-MAY-2017-01</td>\n",
       "      <td>11-May-17</td>\n",
       "      <td>11-May-17</td>\n",
       "      <td>1</td>\n",
       "      <td>5</td>\n",
       "      <td>2119</td>\n",
       "      <td>4118555</td>\n",
       "      <td>...</td>\n",
       "      <td>VA695</td>\n",
       "      <td>120821</td>\n",
       "      <td>Slagle fine sandy loam, 2 to 6 percent slopes</td>\n",
       "      <td>fine sandy loam</td>\n",
       "      <td>sandy clay loam</td>\n",
       "      <td>marine deposits</td>\n",
       "      <td>moderately well drained</td>\n",
       "      <td>C</td>\n",
       "      <td>No</td>\n",
       "      <td>3</td>\n",
       "    </tr>\n",
       "    <tr>\n",
       "      <th>4</th>\n",
       "      <td>29B</td>\n",
       "      <td>1029</td>\n",
       "      <td>2017</td>\n",
       "      <td>SCTR-11-MAY-2017-01</td>\n",
       "      <td>11-May-17</td>\n",
       "      <td>11-May-17</td>\n",
       "      <td>1</td>\n",
       "      <td>6</td>\n",
       "      <td>2121</td>\n",
       "      <td>4118544</td>\n",
       "      <td>...</td>\n",
       "      <td>VA695</td>\n",
       "      <td>120821</td>\n",
       "      <td>Slagle fine sandy loam, 2 to 6 percent slopes</td>\n",
       "      <td>fine sandy loam</td>\n",
       "      <td>sandy clay loam</td>\n",
       "      <td>marine deposits</td>\n",
       "      <td>moderately well drained</td>\n",
       "      <td>C</td>\n",
       "      <td>No</td>\n",
       "      <td>4</td>\n",
       "    </tr>\n",
       "  </tbody>\n",
       "</table>\n",
       "<p>5 rows × 34 columns</p>\n",
       "</div>"
      ],
      "text/plain": [
       "  MUSYM  Index  Year             Sheet_ID       Date Date_survey_started  \\\n",
       "0   29B   1024  2017  SCTR-11-MAY-2017-01  11-May-17           11-May-17   \n",
       "1   29B   1025  2017  SCTR-11-MAY-2017-01  11-May-17           11-May-17   \n",
       "2   29B   1026  2017  SCTR-11-MAY-2017-01  11-May-17           11-May-17   \n",
       "3   29B   1028  2017  SCTR-11-MAY-2017-01  11-May-17           11-May-17   \n",
       "4   29B   1029  2017  SCTR-11-MAY-2017-01  11-May-17           11-May-17   \n",
       "\n",
       "   Survey  No  Time        Y  ...  AREASYMBOL   MUKEY  \\\n",
       "0       1   1  2109  4118573  ...       VA695  120821   \n",
       "1       1   2  2109  4118577  ...       VA695  120821   \n",
       "2       1   3  2109  4118569  ...       VA695  120821   \n",
       "3       1   5  2119  4118555  ...       VA695  120821   \n",
       "4       1   6  2121  4118544  ...       VA695  120821   \n",
       "\n",
       "                                Soil_description        Top_layer  \\\n",
       "0  Slagle fine sandy loam, 2 to 6 percent slopes  fine sandy loam   \n",
       "1  Slagle fine sandy loam, 2 to 6 percent slopes  fine sandy loam   \n",
       "2  Slagle fine sandy loam, 2 to 6 percent slopes  fine sandy loam   \n",
       "3  Slagle fine sandy loam, 2 to 6 percent slopes  fine sandy loam   \n",
       "4  Slagle fine sandy loam, 2 to 6 percent slopes  fine sandy loam   \n",
       "\n",
       "      Middle_layer  Parent_material                 Drainage  \\\n",
       "0  sandy clay loam  marine deposits  moderately well drained   \n",
       "1  sandy clay loam  marine deposits  moderately well drained   \n",
       "2  sandy clay loam  marine deposits  moderately well drained   \n",
       "3  sandy clay loam  marine deposits  moderately well drained   \n",
       "4  sandy clay loam  marine deposits  moderately well drained   \n",
       "\n",
       "   Hydric_soil_group Hydric_soil lineOrig  \n",
       "0                  C          No        0  \n",
       "1                  C          No        1  \n",
       "2                  C          No        2  \n",
       "3                  C          No        3  \n",
       "4                  C          No        4  \n",
       "\n",
       "[5 rows x 34 columns]"
      ]
     },
     "execution_count": 110,
     "metadata": {},
     "output_type": "execute_result"
    }
   ],
   "source": [
    "df.head()"
   ]
  },
  {
   "cell_type": "code",
   "execution_count": 111,
   "metadata": {},
   "outputs": [
    {
     "data": {
      "text/plain": [
       "1151"
      ]
     },
     "execution_count": 111,
     "metadata": {},
     "output_type": "execute_result"
    }
   ],
   "source": [
    "len(df)"
   ]
  },
  {
   "cell_type": "code",
   "execution_count": 112,
   "metadata": {},
   "outputs": [],
   "source": [
    "df_clean = df[~df['Adjusted_sex'].isna()]"
   ]
  },
  {
   "cell_type": "code",
   "execution_count": 113,
   "metadata": {},
   "outputs": [
    {
     "data": {
      "text/plain": [
       "1151"
      ]
     },
     "execution_count": 113,
     "metadata": {},
     "output_type": "execute_result"
    }
   ],
   "source": [
    "len(df_clean)"
   ]
  },
  {
   "cell_type": "code",
   "execution_count": 114,
   "metadata": {},
   "outputs": [
    {
     "data": {
      "text/plain": [
       "array([61.6, 45.3, 44. , 42. , 38.3, 53.7, 48.6, 44.8, 49.6, 49.2, 40.3,\n",
       "       35.3, 51.9, 37.9, 43.8, 51.2, 49.1, 54.6, 43.1, 46.2, 44.9, 47.8,\n",
       "       39.1, 46.9, 54.8, 34.4, 35.2, 53.8, 60.2, 41.7, 51. , 42.4, 41.6,\n",
       "       41.9, 48.3, 59.5, 36.6, 36.4, 44.7, 37.5, 40.7, 40.9, 31.5, 34.1,\n",
       "       54. , 46.4, 38.4, 50.3, 38. , 39.8, 42.7, 34.6, 45.8, 45.7, 34.8,\n",
       "       37.8, 38.5, 38.8, 36.1, 38.1, 46.7, 38.7, 54.5, 35.7, 49.9, 39.5,\n",
       "       39. , 40.1, 42.3, 40.2, 47.4, 56.6, 37.4, 45. , 37.2, 47.9, 50.1,\n",
       "       46.3, 41. , 47.1, 39.7, 40.8, 41.3, 32.9, 42.8, 44.3, 34.3, 40.5,\n",
       "       41.2, 36.8, 39.4, 41.4, 35.5, 39.9, 46.8, 41.5, 47.2, 39.3, 33.1,\n",
       "       36.3, 48.8, 43. , 34.9, 45.5, 37.1, 35. , 33.9, 40.4, 51.6, 31.7,\n",
       "       36.5, 48.4, 43.5, 33.5, 47.7, 48.7, 44.2, 35.1, 58.3, 34.5, 33.4,\n",
       "       47.5, 31.1, 47.6, 34.7, 53.4, 31.8, 37.6, 50.9, 33.7, 38.2, 36.2,\n",
       "       36.9, 50.6, 57.7, 50.2, 55.8, 54.1, 43.7, 36.7, 36. , 32.3, 33.3,\n",
       "       32.4, 37. , 40.6, 50.7, 42.1, 41.8, 51.4, 50.4, 34.2, 32.8, 31. ,\n",
       "       31.2, 52.3, 32.7, 46. , 30.9, 43.4, 48.2, 31.4, 30.2, 32.6, 30.3,\n",
       "       39.2, 31.3, 45.2, 35.6, 34. , 38.9, 51.1, 43.3, 35.8, 50. , 55.6,\n",
       "       38.6, 52.6, 43.6, 42.2, 42.5, 51.8, 60.8, 35.9, 35.4, 45.4, 56.2,\n",
       "       46.1, 49.7, 52. , 48.9, 42.9, 44.4, 43.2, 53.9, 49.5, 33.2, 37.7,\n",
       "       37.3, 49.8, 59. , 53.2, 33. , 47. , 39.6, 46.6, 45.6, 49.4, 49.3,\n",
       "       56. , 40. , 33.8, 46.5, 33.6, 50.8, 49. , 50.5, 48.1, 54.2, 56.1,\n",
       "       45.1, 52.5, 55.5, 56.5, 59.8, 52.8, 52.2, 53.1, 44.6, 54.4, 43.9,\n",
       "       60.9, 48.5, 59.6, 53.6, 52.9, 51.3, 51.5, 48. , 52.7, 41.1, 53.3,\n",
       "       44.5, 45.9, 56.3, 47.3, 52.1, 52.4, 42.6, 54.7, 51.7, 44.1, 63.8,\n",
       "       54.3, 53.5, 56.4, 55.2, 55.1, 57.5, 55.3, 66.2, 58.9, 57.4, 62.8,\n",
       "       55. , 56.9, 58.7])"
      ]
     },
     "execution_count": 114,
     "metadata": {},
     "output_type": "execute_result"
    }
   ],
   "source": [
    "df_clean.SVL_mm.unique()"
   ]
  },
  {
   "cell_type": "markdown",
   "metadata": {},
   "source": [
    "## Create rows for each entry in the matrix\n",
    "Rows contain X, Y, SVL and demog for toad1 and toad2, as well as the distance between toad1 and toad2 and diffencence in SVL.\n"
   ]
  },
  {
   "cell_type": "code",
   "execution_count": 115,
   "metadata": {},
   "outputs": [],
   "source": [
    "# set to the correct df!!\n",
    "dataset = df_clean\n",
    "\n",
    "rows = []\n",
    "ntoads = len(dataset)\n",
    "for i, x in dataset.iterrows():\n",
    "    ax, ay, asvl, asex = x[['X', 'Y', 'SVL_mm', 'Adjusted_sex']].values\n",
    "    for j, y in dataset.iterrows():\n",
    "        bx, by, bsvl, bsex = y[['X', 'Y', 'SVL_mm', 'Adjusted_sex']].values\n",
    "        try:\n",
    "            dist = np.sqrt((ax - bx)**2 + (ay -by)**2)\n",
    "            diff = np.abs(asvl-bsvl)\n",
    "        except TypeError as e:\n",
    "            print(ax, ay, asvl, asex, asvl)\n",
    "            print(bx, by, bsvl, bsex, bsvl)\n",
    "            print('---')\n",
    "            raise e\n",
    "\n",
    "        row = {\n",
    "            'id1': i,\n",
    "            'id2': j,\n",
    "            'svl1': asvl,\n",
    "            'svl2': bsvl,          \n",
    "            'sex1': asex,\n",
    "            'sex2': bsex,\n",
    "            'dist': dist,\n",
    "            'diff': diff,\n",
    "        }\n",
    "        rows.append(row)"
   ]
  },
  {
   "cell_type": "code",
   "execution_count": 117,
   "metadata": {},
   "outputs": [
    {
     "data": {
      "text/plain": [
       "1324801"
      ]
     },
     "execution_count": 117,
     "metadata": {},
     "output_type": "execute_result"
    }
   ],
   "source": [
    "len(rows)"
   ]
  },
  {
   "cell_type": "code",
   "execution_count": 118,
   "metadata": {},
   "outputs": [],
   "source": [
    "output_df = pd.DataFrame.from_dict(rows)"
   ]
  },
  {
   "cell_type": "code",
   "execution_count": 119,
   "metadata": {},
   "outputs": [
    {
     "data": {
      "text/plain": [
       "1324801"
      ]
     },
     "execution_count": 119,
     "metadata": {},
     "output_type": "execute_result"
    }
   ],
   "source": [
    "len(output_df)"
   ]
  },
  {
   "cell_type": "code",
   "execution_count": 120,
   "metadata": {},
   "outputs": [
    {
     "data": {
      "text/html": [
       "<div>\n",
       "<style scoped>\n",
       "    .dataframe tbody tr th:only-of-type {\n",
       "        vertical-align: middle;\n",
       "    }\n",
       "\n",
       "    .dataframe tbody tr th {\n",
       "        vertical-align: top;\n",
       "    }\n",
       "\n",
       "    .dataframe thead th {\n",
       "        text-align: right;\n",
       "    }\n",
       "</style>\n",
       "<table border=\"1\" class=\"dataframe\">\n",
       "  <thead>\n",
       "    <tr style=\"text-align: right;\">\n",
       "      <th></th>\n",
       "      <th>id1</th>\n",
       "      <th>id2</th>\n",
       "      <th>svl1</th>\n",
       "      <th>svl2</th>\n",
       "      <th>sex1</th>\n",
       "      <th>sex2</th>\n",
       "      <th>dist</th>\n",
       "      <th>diff</th>\n",
       "    </tr>\n",
       "  </thead>\n",
       "  <tbody>\n",
       "    <tr>\n",
       "      <th>0</th>\n",
       "      <td>0</td>\n",
       "      <td>0</td>\n",
       "      <td>61.6</td>\n",
       "      <td>61.6</td>\n",
       "      <td>M</td>\n",
       "      <td>M</td>\n",
       "      <td>0.000000</td>\n",
       "      <td>0.0</td>\n",
       "    </tr>\n",
       "    <tr>\n",
       "      <th>1</th>\n",
       "      <td>0</td>\n",
       "      <td>1</td>\n",
       "      <td>61.6</td>\n",
       "      <td>45.3</td>\n",
       "      <td>M</td>\n",
       "      <td>F</td>\n",
       "      <td>4.123106</td>\n",
       "      <td>16.3</td>\n",
       "    </tr>\n",
       "    <tr>\n",
       "      <th>2</th>\n",
       "      <td>0</td>\n",
       "      <td>2</td>\n",
       "      <td>61.6</td>\n",
       "      <td>44.0</td>\n",
       "      <td>M</td>\n",
       "      <td>F</td>\n",
       "      <td>8.062258</td>\n",
       "      <td>17.6</td>\n",
       "    </tr>\n",
       "    <tr>\n",
       "      <th>3</th>\n",
       "      <td>0</td>\n",
       "      <td>3</td>\n",
       "      <td>61.6</td>\n",
       "      <td>42.0</td>\n",
       "      <td>M</td>\n",
       "      <td>S</td>\n",
       "      <td>42.047592</td>\n",
       "      <td>19.6</td>\n",
       "    </tr>\n",
       "    <tr>\n",
       "      <th>4</th>\n",
       "      <td>0</td>\n",
       "      <td>4</td>\n",
       "      <td>61.6</td>\n",
       "      <td>38.3</td>\n",
       "      <td>M</td>\n",
       "      <td>S</td>\n",
       "      <td>49.406477</td>\n",
       "      <td>23.3</td>\n",
       "    </tr>\n",
       "  </tbody>\n",
       "</table>\n",
       "</div>"
      ],
      "text/plain": [
       "   id1  id2  svl1  svl2 sex1 sex2       dist  diff\n",
       "0    0    0  61.6  61.6    M    M   0.000000   0.0\n",
       "1    0    1  61.6  45.3    M    F   4.123106  16.3\n",
       "2    0    2  61.6  44.0    M    F   8.062258  17.6\n",
       "3    0    3  61.6  42.0    M    S  42.047592  19.6\n",
       "4    0    4  61.6  38.3    M    S  49.406477  23.3"
      ]
     },
     "execution_count": 120,
     "metadata": {},
     "output_type": "execute_result"
    }
   ],
   "source": [
    "output_df.head()"
   ]
  },
  {
   "cell_type": "code",
   "execution_count": 121,
   "metadata": {},
   "outputs": [],
   "source": [
    "output_df.to_csv('../DATA/20220117_2017_matrix.csv')\n"
   ]
  },
  {
   "cell_type": "code",
   "execution_count": 122,
   "metadata": {},
   "outputs": [
    {
     "data": {
      "text/plain": [
       "1324801"
      ]
     },
     "execution_count": 122,
     "metadata": {},
     "output_type": "execute_result"
    }
   ],
   "source": [
    "1151*1151"
   ]
  },
  {
   "cell_type": "code",
   "execution_count": null,
   "metadata": {},
   "outputs": [],
   "source": []
  }
 ],
 "metadata": {
  "kernelspec": {
   "display_name": "Python 3 (ipykernel)",
   "language": "python",
   "name": "python3"
  },
  "language_info": {
   "codemirror_mode": {
    "name": "ipython",
    "version": 3
   },
   "file_extension": ".py",
   "mimetype": "text/x-python",
   "name": "python",
   "nbconvert_exporter": "python",
   "pygments_lexer": "ipython3",
   "version": "3.7.12"
  }
 },
 "nbformat": 4,
 "nbformat_minor": 4
}
